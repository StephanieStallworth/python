{
 "cells": [
  {
   "cell_type": "code",
   "execution_count": null,
   "metadata": {
    "collapsed": true
   },
   "outputs": [],
   "source": [
    "# Install packagee\n",
    "# On Windows\n",
    "# Open Start menu \n",
    "# Search \"Anaconda Command Prompt\" or \"cmd\"\n",
    "# conda install \\<packagename> OR pip install \\<packagename>\n",
    "\n",
    "# In command terminal \n",
    "# cd ps\\sstallworth\\AppData\\Local\\Programs\\Python\\Python37-32\\Scripts  \n",
    "# pip.exe install scrapy   \n",
    "# exit\n",
    "\n",
    "# On Mac\n",
    "# CMD + SPACE to open Spotlight Search\n",
    "# Search for \"Terminal - Utlities\"\n",
    "# conda install \\<packagename> OR  pip install \\<packagename>\n",
    "# Note: If you are running Jupyter Notebook using the terminal\n",
    "# You'll find that it's actually occupying the terminal and you can't type more into it\n",
    "# Click inside window and press CMD + T to create second window to type installation instructions"
   ]
  },
  {
   "cell_type": "code",
   "execution_count": 3,
   "metadata": {},
   "outputs": [
    {
     "ename": "ModuleNotFoundError",
     "evalue": "No module named 'scrapy'",
     "output_type": "error",
     "traceback": [
      "\u001b[1;31m---------------------------------------------------------------------------\u001b[0m",
      "\u001b[1;31mModuleNotFoundError\u001b[0m                       Traceback (most recent call last)",
      "\u001b[1;32m<ipython-input-3-51c73a18167b>\u001b[0m in \u001b[0;36m<module>\u001b[1;34m()\u001b[0m\n\u001b[1;32m----> 1\u001b[1;33m \u001b[1;32mimport\u001b[0m \u001b[0mscrapy\u001b[0m\u001b[1;33m\u001b[0m\u001b[0m\n\u001b[0m",
      "\u001b[1;31mModuleNotFoundError\u001b[0m: No module named 'scrapy'"
     ]
    }
   ],
   "source": [
    "import scrapy"
   ]
  },
  {
   "cell_type": "code",
   "execution_count": null,
   "metadata": {
    "collapsed": true
   },
   "outputs": [],
   "source": [
    "from scrapy.crawler import CrawlerProcess "
   ]
  },
  {
   "cell_type": "code",
   "execution_count": null,
   "metadata": {
    "collapsed": true
   },
   "outputs": [],
   "source": []
  }
 ],
 "metadata": {
  "kernelspec": {
   "display_name": "Python 3",
   "language": "python",
   "name": "python3"
  },
  "language_info": {
   "codemirror_mode": {
    "name": "ipython",
    "version": 3
   },
   "file_extension": ".py",
   "mimetype": "text/x-python",
   "name": "python",
   "nbconvert_exporter": "python",
   "pygments_lexer": "ipython3",
   "version": "3.6.3"
  }
 },
 "nbformat": 4,
 "nbformat_minor": 2
}
