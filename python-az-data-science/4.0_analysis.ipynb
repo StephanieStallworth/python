{
 "cells": [
  {
   "cell_type": "code",
   "execution_count": 1,
   "metadata": {},
   "outputs": [
    {
     "name": "stdout",
     "output_type": "stream",
     "text": [
      "[ 0  1  2  3  4  5  6  7  8  9 10 11 12 13 14 15 16 17 18 19]\n"
     ]
    }
   ],
   "source": [
    "import numpy as np\n",
    "mydata = np.arange(0,20)\n",
    "print(mydata)"
   ]
  },
  {
   "cell_type": "code",
   "execution_count": 2,
   "metadata": {},
   "outputs": [
    {
     "data": {
      "text/plain": [
       "array([[ 0,  1,  2,  3],\n",
       "       [ 4,  5,  6,  7],\n",
       "       [ 8,  9, 10, 11],\n",
       "       [12, 13, 14, 15],\n",
       "       [16, 17, 18, 19]])"
      ]
     },
     "execution_count": 2,
     "metadata": {},
     "output_type": "execute_result"
    }
   ],
   "source": [
    "# Reshape into a matrix\n",
    "# Pass in tuple(rows,columns)\n",
    "# NOTE: default is opposite to R (in R would be populated downwards, column-wise)\n",
    "np.reshape(mydata, (5,4))"
   ]
  },
  {
   "cell_type": "code",
   "execution_count": 3,
   "metadata": {},
   "outputs": [
    {
     "data": {
      "text/plain": [
       "array([[ 0,  1,  2,  3],\n",
       "       [ 4,  5,  6,  7],\n",
       "       [ 8,  9, 10, 11],\n",
       "       [12, 13, 14, 15],\n",
       "       [16, 17, 18, 19]])"
      ]
     },
     "execution_count": 3,
     "metadata": {},
     "output_type": "execute_result"
    }
   ],
   "source": [
    "# Same result as above\n",
    "# Confirms that the default when you don't specify parameter is 'C' like behavior\n",
    "np.reshape(mydata, (5,4), order = 'C')"
   ]
  },
  {
   "cell_type": "code",
   "execution_count": 4,
   "metadata": {},
   "outputs": [
    {
     "data": {
      "text/plain": [
       "array([[ 0,  1,  2,  3],\n",
       "       [ 4,  5,  6,  7],\n",
       "       [ 8,  9, 10, 11],\n",
       "       [12, 13, 14, 15],\n",
       "       [16, 17, 18, 19]])"
      ]
     },
     "execution_count": 4,
     "metadata": {},
     "output_type": "execute_result"
    }
   ],
   "source": [
    "MATR1 = np.reshape(mydata, (5,4), order = 'C')\n",
    "MATR1"
   ]
  },
  {
   "cell_type": "code",
   "execution_count": 5,
   "metadata": {},
   "outputs": [
    {
     "data": {
      "text/plain": [
       "10"
      ]
     },
     "execution_count": 5,
     "metadata": {},
     "output_type": "execute_result"
    }
   ],
   "source": [
    "# Exercise - get to the number 10:\n",
    "MATR1[2,2]"
   ]
  },
  {
   "cell_type": "code",
   "execution_count": 6,
   "metadata": {},
   "outputs": [
    {
     "data": {
      "text/plain": [
       "array([[ 0,  5, 10, 15],\n",
       "       [ 1,  6, 11, 16],\n",
       "       [ 2,  7, 12, 17],\n",
       "       [ 3,  8, 13, 18],\n",
       "       [ 4,  9, 14, 19]])"
      ]
     },
     "execution_count": 6,
     "metadata": {},
     "output_type": "execute_result"
    }
   ],
   "source": [
    "# Fortran like behavior \n",
    "MATR2 = np.reshape(mydata, (5,4), order = 'F')\n",
    "MATR2"
   ]
  },
  {
   "cell_type": "code",
   "execution_count": 7,
   "metadata": {},
   "outputs": [
    {
     "data": {
      "text/plain": [
       "10"
      ]
     },
     "execution_count": 7,
     "metadata": {},
     "output_type": "execute_result"
    }
   ],
   "source": [
    "# Exercise - get to the number 10:\n",
    "MATR2[0,2]"
   ]
  },
  {
   "cell_type": "code",
   "execution_count": 11,
   "metadata": {},
   "outputs": [
    {
     "data": {
      "text/plain": [
       "array([[ 0,  1,  2,  3],\n",
       "       [ 4,  5,  6,  7],\n",
       "       [ 8,  9, 10, 11],\n",
       "       [12, 13, 14, 15],\n",
       "       [16, 17, 18, 19]])"
      ]
     },
     "execution_count": 11,
     "metadata": {},
     "output_type": "execute_result"
    }
   ],
   "source": [
    "# OOP Concept: \n",
    "# One way to find the function reshape() is to go to the package\n",
    "# Then pass it the list/data we're working with and dimensions \n",
    "# np.reshape(mydata, (5,4))\n",
    "\n",
    "# But mydata is not just a list, it is an array \n",
    "# Because it was created with the arrange function \n",
    "# That means mydata is an object that already contains the reshape() function \n",
    "# So can apply/call the function from within the object itself and just pass the dimensions\n",
    "# Don't have to go into numpy package and find the function\n",
    "\n",
    "# Benefit of OOP is that these objects carry around not only data\n",
    "# But also the functions within themselves\n",
    "\n",
    "# Get the same result \n",
    "mydata.reshape((5,4))"
   ]
  },
  {
   "cell_type": "code",
   "execution_count": 12,
   "metadata": {
    "collapsed": true
   },
   "outputs": [],
   "source": [
    "# -----------------------------"
   ]
  },
  {
   "cell_type": "code",
   "execution_count": 13,
   "metadata": {
    "collapsed": true
   },
   "outputs": [],
   "source": [
    "r1 =  [\"I\", \"am\", \"happy\"]\n",
    "r2 = [\"What\", \"a\", \"day\"]\n",
    "r3 = [1, 2, 3]"
   ]
  },
  {
   "cell_type": "code",
   "execution_count": 14,
   "metadata": {},
   "outputs": [
    {
     "data": {
      "text/plain": [
       "[['I', 'am', 'happy'], ['What', 'a', 'day'], [1, 2, 3]]"
      ]
     },
     "execution_count": 14,
     "metadata": {},
     "output_type": "execute_result"
    }
   ],
   "source": [
    "[r1, r2, r3]"
   ]
  },
  {
   "cell_type": "code",
   "execution_count": 16,
   "metadata": {},
   "outputs": [
    {
     "data": {
      "text/plain": [
       "array([['I', 'am', 'happy'],\n",
       "       ['What', 'a', 'day'],\n",
       "       ['1', '2', '3']],\n",
       "      dtype='<U5')"
      ]
     },
     "execution_count": 16,
     "metadata": {},
     "output_type": "execute_result"
    }
   ],
   "source": [
    "# Combine lists into a matrix row-by-row (each list is its own row)\n",
    "# Tells you the type of data in the matrix\n",
    "# \"<U5\" means less than 5 unicode characters in the strings\n",
    "# Each of the elements are turned into a string\n",
    "# Because in arrays, can only have one type of data \n",
    "# Easier to convert number into a string\n",
    "np.array([r1, r2, r3])"
   ]
  },
  {
   "cell_type": "code",
   "execution_count": 18,
   "metadata": {},
   "outputs": [
    {
     "name": "stdout",
     "output_type": "stream",
     "text": [
      "[['I' 'am' 'happy']\n",
      " ['What' 'a' 'day']\n",
      " ['1' '2' '3']]\n"
     ]
    }
   ],
   "source": [
    "# Don't display dtype\n",
    "print(np.array([r1, r2, r3]))"
   ]
  },
  {
   "cell_type": "code",
   "execution_count": 19,
   "metadata": {
    "collapsed": true
   },
   "outputs": [],
   "source": [
    "# ------------------------------------"
   ]
  },
  {
   "cell_type": "code",
   "execution_count": 20,
   "metadata": {
    "collapsed": true
   },
   "outputs": [],
   "source": [
    "# Dictionaries\n",
    "# Like a list, difference is a list is an ordered set of elements \n",
    "# Dictionary is not ordered, it has a key\n",
    "dict1 = {'key1':'val1','key2':'val2','key3':'val3'}"
   ]
  },
  {
   "cell_type": "code",
   "execution_count": 21,
   "metadata": {},
   "outputs": [
    {
     "data": {
      "text/plain": [
       "'val2'"
      ]
     },
     "execution_count": 21,
     "metadata": {},
     "output_type": "execute_result"
    }
   ],
   "source": [
    "# Therefore, elements are accessed by key in a dictionary\n",
    "# In a list, it would be accessed by index number \n",
    "dict1['key2']"
   ]
  },
  {
   "cell_type": "code",
   "execution_count": 22,
   "metadata": {},
   "outputs": [
    {
     "data": {
      "text/plain": [
       "'val1'"
      ]
     },
     "execution_count": 22,
     "metadata": {},
     "output_type": "execute_result"
    }
   ],
   "source": [
    "dict1['key1']"
   ]
  },
  {
   "cell_type": "code",
   "execution_count": 23,
   "metadata": {},
   "outputs": [
    {
     "data": {
      "text/plain": [
       "{'key1': 'val1', 'key2': 'val2', 'key3': 'val3'}"
      ]
     },
     "execution_count": 23,
     "metadata": {},
     "output_type": "execute_result"
    }
   ],
   "source": [
    "dict1"
   ]
  },
  {
   "cell_type": "code",
   "execution_count": 24,
   "metadata": {
    "collapsed": true
   },
   "outputs": [],
   "source": [
    "# Dictionaries can have different data types just like lists \n",
    "dict2 = {'Germany':'I have been here', 'France':2, 'Spain':True}"
   ]
  },
  {
   "cell_type": "code",
   "execution_count": 25,
   "metadata": {},
   "outputs": [
    {
     "data": {
      "text/plain": [
       "{'France': 2, 'Germany': 'I have been here', 'Spain': True}"
      ]
     },
     "execution_count": 25,
     "metadata": {},
     "output_type": "execute_result"
    }
   ],
   "source": [
    "# Notice that order is not the same \n",
    "# In dictionaries, order don't matter at all \n",
    "# You can only access elements through the keys anyway\n",
    "# So it is stored however is most efficient for Python\n",
    "# It doesn't maintain the order in which you specified them \n",
    "dict2"
   ]
  },
  {
   "cell_type": "code",
   "execution_count": 26,
   "metadata": {},
   "outputs": [
    {
     "data": {
      "text/plain": [
       "2"
      ]
     },
     "execution_count": 26,
     "metadata": {},
     "output_type": "execute_result"
    }
   ],
   "source": [
    "dict2['France']"
   ]
  },
  {
   "cell_type": "code",
   "execution_count": 27,
   "metadata": {
    "collapsed": true
   },
   "outputs": [],
   "source": [
    "# --------------------------------"
   ]
  },
  {
   "cell_type": "code",
   "execution_count": 28,
   "metadata": {
    "collapsed": true
   },
   "outputs": [],
   "source": [
    "# Matrix Operations \n",
    "\n",
    "# Surpress warnings\n",
    "import warnings\n",
    "warnings.filterwarnings('ignore')\n",
    "\n",
    "# Divide matrix\n",
    "# np.matrix.round(Matrix1/Matrix2)\n",
    "FieldGoalsPerGame = np.matrix.round(FieldGoals/Games)\n",
    "np.matrix.round(MinutesPlayed/Games) "
   ]
  },
  {
   "cell_type": "code",
   "execution_count": 29,
   "metadata": {
    "collapsed": true
   },
   "outputs": [],
   "source": [
    "# --------------------------------"
   ]
  },
  {
   "cell_type": "code",
   "execution_count": 30,
   "metadata": {
    "collapsed": true
   },
   "outputs": [],
   "source": [
    "# Visualization "
   ]
  },
  {
   "cell_type": "code",
   "execution_count": 31,
   "metadata": {
    "collapsed": true
   },
   "outputs": [],
   "source": [
    "import numpy as np\n",
    "\n",
    "# matplotlib comes part of Anaconda distribution\n",
    "import matplotlib.pyplot as plt \n",
    "\n",
    "# To put plots in the actual Jupyter notebook instead of separate window\n",
    "# Only need to do this once \n",
    "%matplotlib inline\n",
    "\n",
    "# Set parameters for session\n",
    "plt.rcParams['figure.figsize'] = 8,4\n",
    "\n",
    "# Basic plot of salary matrix\n",
    "plt.plot(Salary[0], c= 'Black',ls = '--', marker = 's', ms = 7, label = Players[0])\n",
    "\n",
    "# Want season on x-axis not the number\n",
    "plt.xticks(list(range(0,9)), Seasons, rotation = 'vertical')\n",
    "\n",
    "# Displaying the plot instead of just sending the object to the output \n",
    "# Like print() \n",
    "plt.show()"
   ]
  },
  {
   "cell_type": "code",
   "execution_count": 33,
   "metadata": {
    "collapsed": true
   },
   "outputs": [],
   "source": [
    "# More Visualization"
   ]
  },
  {
   "cell_type": "code",
   "execution_count": null,
   "metadata": {
    "collapsed": true
   },
   "outputs": [],
   "source": [
    "# Line styles: https://matplotlib.org/stable/gallery/lines_bars_and_markers/linestyles.html\n",
    "# Markers: https://matplotlib.org/stable/api/markers_api.html\n",
    "plt.plot(Salary[0], c= 'Black',ls = '--', marker = 's', ms = 7, label = Players[0])\n",
    "\n",
    "# Add rows (players) from the matrix \n",
    "plt.plot(Salary[1], c= 'Red',ls = '--', marker = 'o', ms = 7, label = Players[1])\n",
    "plt.plot(Salary[2], c= 'Green',ls = '--', marker = '^', ms = 7, label = Players[2])\n",
    "plt.plot(Salary[3], c= 'Blue',ls = '--', marker = 'D', ms = 7, label = Players[3])\n",
    "plt.plot(Salary[4], c= 'Pink',ls = '--', marker = 's', ms = 7, label = Players[4])\n",
    "\n",
    "\n",
    "plt.plot(Salary[5], c= 'Black',ls = '--', marker = 'o', ms = 7, label = Players[5])\n",
    "plt.plot(Salary[6], c= 'Red',ls = '--', marker = '^', ms = 7, label = Players[6])\n",
    "plt.plot(Salary[7], c= 'Green',ls = '--', marker = 'D', ms = 7, label = Players[7])\n",
    "plt.plot(Salary[8], c= 'Blue',ls = '--', marker = 's', ms = 7, label = Players[8])\n",
    "plt.plot(Salary[9], c= 'Pink',ls = '--', marker = 'o', ms = 7, label = Players[9])\n",
    "\n",
    "\n",
    "# Add legend and where you what to lock it in \n",
    "# 'upper left' means you want the upper left corner of the legend to be touching the axis\n",
    "# bb_to_anchor means I  want N \"length\"/side of the legend on  the x axis\n",
    "# and N length/side of the legend on the y-axis\n",
    "\n",
    "plt.legend(loc = 'upper left', bbox_to_anchor = (1,1)) \n",
    "\n",
    "plt.xticks(list(range(0,9)), Seasons, rotation = 'vertical')\n",
    "plt.show()"
   ]
  },
  {
   "cell_type": "code",
   "execution_count": null,
   "metadata": {
    "collapsed": true
   },
   "outputs": [],
   "source": [
    "# Replace matrix with Games matrix\n",
    "plt.plot(Games[0], c= 'Black',ls = '--', marker = 's', ms = 7, label = Players[0])\n",
    "plt.plot(Games[1], c= 'Red',ls = '--', marker = 'o', ms = 7, label = Players[1])\n",
    "plt.plot(Games[2], c= 'Green',ls = '--', marker = '^', ms = 7, label = Players[2])\n",
    "plt.plot(Games[3], c= 'Blue',ls = '--', marker = 'D', ms = 7, label = Players[3])\n",
    "plt.plot(Games[4], c= 'Pink',ls = '--', marker = 's', ms = 7, label = Players[4])\n",
    "plt.plot(Games[5], c= 'Black',ls = '--', marker = 'o', ms = 7, label = Players[5])\n",
    "plt.plot(Games[6], c= 'Red',ls = '--', marker = '^', ms = 7, label = Players[6])\n",
    "plt.plot(Games[7], c= 'Green',ls = '--', marker = 'D', ms = 7, label = Players[7])\n",
    "plt.plot(Games[8], c= 'Blue',ls = '--', marker = 's', ms = 7, label = Players[8])\n",
    "plt.plot(Games[9], c= 'Pink',ls = '--', marker = 'o', ms = 7, label = Players[9])\n",
    "plt.legend(loc = 'upper left', bbox_to_anchor = (1,1)) \n",
    "plt.xticks(list(range(0,9)), Seasons, rotation = 'vertical')\n",
    "plt.show()"
   ]
  },
  {
   "cell_type": "code",
   "execution_count": 34,
   "metadata": {
    "collapsed": true
   },
   "outputs": [],
   "source": [
    "# Our Own Function "
   ]
  },
  {
   "cell_type": "code",
   "execution_count": null,
   "metadata": {
    "collapsed": true
   },
   "outputs": [],
   "source": [
    "def myplot(playerlist):\n",
    "    for name in playerlist:\n",
    "        plt.plot(Games[Pdict[name]], c= 'Black',ls = '--', marker = 's', ms = 7, label = name)\n",
    "    plt.legend(loc = 'upper left', bbox_to_anchor = (1,1)) \n",
    "    plt.xticks(list(range(0,9)), Seasons, rotation = 'vertical')\n",
    "    plt.show()"
   ]
  },
  {
   "cell_type": "code",
   "execution_count": null,
   "metadata": {
    "collapsed": true
   },
   "outputs": [],
   "source": [
    "# Pass in playerlist to plot \n",
    "myplot(['PlayerName1','PlayerName2','PlayerName3'])"
   ]
  },
  {
   "cell_type": "code",
   "execution_count": null,
   "metadata": {
    "collapsed": true
   },
   "outputs": [],
   "source": [
    "# Advanced Function Design\n",
    "# Assign different colors and markers to different players\n",
    "\n",
    "def myplot(playerlist):\n",
    "    Col = {\"PlayerName1\":\"Black\", \"PlayerName2\":\"Blue\",...}\n",
    "    Mrk = {\"PlayerName1\":\"s\", \"PlayerName2\":\"o\",...}\n",
    "    for name in playerlist:\n",
    "        plt.plot(Games[Pdict[name]], c = Col[name],ls = '--', marker = Mrk[name], ms = 7, label = name)\n",
    "    plt.legend(loc = 'upper left', bbox_to_anchor = (1,1)) \n",
    "    plt.xticks(list(range(0,9)), Seasons, rotation = 'vertical')\n",
    "    plt.show()\n",
    "\n",
    "# Pass in playerlist to plot \n",
    "myplot(['PlayerName1','PlayerName2','PlayerName3'])"
   ]
  },
  {
   "cell_type": "code",
   "execution_count": null,
   "metadata": {
    "collapsed": true
   },
   "outputs": [],
   "source": [
    "# Fix up the inputs \n",
    "# Specify which matrix you want pull data from \n",
    "def myplot(data, playerlist = Players): # specify default value as all players\n",
    "    Col = {\"PlayerName1\":\"Black\", \"PlayerName2\":\"Blue\",...}\n",
    "    Mrk = {\"PlayerName1\":\"s\", \"PlayerName2\":\"o\",...}\n",
    "    for name in playerlist:\n",
    "        plt.plot(data[Pdict[name]], c = Col[name],ls = '--', marker = Mrk[name], ms = 7, label = name)\n",
    "    plt.legend(loc = 'upper left', bbox_to_anchor = (1,1)) \n",
    "    plt.xticks(list(range(0,9)), Seasons, rotation = 'vertical')\n",
    "    plt.show()\n",
    "\n",
    "# Pass in matrix to pull data from and playerlist to plot \n",
    "myplot([Points, 'PlayerName1','PlayerName2','PlayerName3'])\n",
    "\n",
    "# Plot default value of all the players if playerlist not passed to function\n",
    "myplot(Salary)"
   ]
  },
  {
   "cell_type": "code",
   "execution_count": null,
   "metadata": {
    "collapsed": true
   },
   "outputs": [],
   "source": [
    "# Insights\n",
    "myplot(Games)"
   ]
  },
  {
   "cell_type": "code",
   "execution_count": null,
   "metadata": {
    "collapsed": true
   },
   "outputs": [],
   "source": [
    "# Salary\n",
    "myplot(Salary)\n",
    "myplot(Salary/Games)\n",
    "myplot(Salary/FieldGoals)"
   ]
  },
  {
   "cell_type": "code",
   "execution_count": null,
   "metadata": {
    "collapsed": true
   },
   "outputs": [],
   "source": [
    "# In-Game Metrics\n",
    "myplot(MinutesPlayed)\n",
    "myplot(Points)"
   ]
  },
  {
   "cell_type": "code",
   "execution_count": null,
   "metadata": {
    "collapsed": true
   },
   "outputs": [],
   "source": [
    "# In-Game Metrics Normalized (Per Game)\n",
    "myplot(FieldGoals/Games)\n",
    "myplot(FieldGoals/FieldGoalAttempts)\n",
    "myplot(FieldGoalAttempts/Games)\n",
    "myplot(Points/Games)"
   ]
  },
  {
   "cell_type": "code",
   "execution_count": null,
   "metadata": {
    "collapsed": true
   },
   "outputs": [],
   "source": [
    "# Interesting Observation\n",
    "myplot(MinutesPlayed/Games)\n",
    "myplot(Games)"
   ]
  },
  {
   "cell_type": "code",
   "execution_count": null,
   "metadata": {
    "collapsed": true
   },
   "outputs": [],
   "source": [
    "# Time is valuable\n",
    "myplot(FieldGoals/MinutesPlayed)"
   ]
  },
  {
   "cell_type": "code",
   "execution_count": null,
   "metadata": {
    "collapsed": true
   },
   "outputs": [],
   "source": [
    "# Player Style\n",
    "myplot(Points/FieldGoals)"
   ]
  }
 ],
 "metadata": {
  "kernelspec": {
   "display_name": "Python 3",
   "language": "python",
   "name": "python3"
  },
  "language_info": {
   "codemirror_mode": {
    "name": "ipython",
    "version": 3
   },
   "file_extension": ".py",
   "mimetype": "text/x-python",
   "name": "python",
   "nbconvert_exporter": "python",
   "pygments_lexer": "ipython3",
   "version": "3.6.3"
  }
 },
 "nbformat": 4,
 "nbformat_minor": 2
}
