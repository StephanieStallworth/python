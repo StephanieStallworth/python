{
 "cells": [
  {
   "cell_type": "code",
   "execution_count": 26,
   "metadata": {},
   "outputs": [
    {
     "name": "stdout",
     "output_type": "stream",
     "text": [
      "Ttest_indResult(statistic=9.9357022262420944, pvalue=3.8102742258887383e-23)\n",
      "REJECT NULL  Ttest_indResult(statistic=9.9357022262420944, pvalue=3.8102742258887383e-23)\n"
     ]
    }
   ],
   "source": [
    "import numpy\n",
    "import scipy.stats \n",
    "import pandas as pd\n",
    "\n",
    "#Read data into pandas dataframe\n",
    "baseball_data = pd.read_csv('baseball_stats.csv')  \n",
    "   \n",
    "#Split the data set into two data frames - left handed and right handed batters  \n",
    "baseball_data_left = baseball_data[baseball_data['handedness']=='L']\n",
    "baseball_data_right= baseball_data[baseball_data['handedness']=='R']  \n",
    "\n",
    "#Perform Welch's t-test\n",
    "result = scipy.stats.ttest_ind(baseball_data_left['avg'], baseball_data_right['avg'], equal_var = False)\n",
    "print(result)\n",
    "\n",
    "#Produce desired output\n",
    "if result[1] <= .05:\n",
    "   print('REJECT NULL ', result)  \n",
    "else: \n",
    "   print('DO NOT REJECT NULL ', result) "
   ]
  }
 ],
 "metadata": {
  "kernelspec": {
   "display_name": "Python 3",
   "language": "python",
   "name": "python3"
  },
  "language_info": {
   "codemirror_mode": {
    "name": "ipython",
    "version": 3
   },
   "file_extension": ".py",
   "mimetype": "text/x-python",
   "name": "python",
   "nbconvert_exporter": "python",
   "pygments_lexer": "ipython3",
   "version": "3.6.3"
  }
 },
 "nbformat": 4,
 "nbformat_minor": 2
}
